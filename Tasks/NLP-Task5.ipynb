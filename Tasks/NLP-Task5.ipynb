{
 "cells": [
  {
   "cell_type": "code",
   "execution_count": null,
   "metadata": {},
   "outputs": [],
   "source": [
    "from gensim.models.word2vec import Word2Vec\n",
    "model = Word2Vec(sentences, workers=num_workers, size=num_features)"
   ]
  },
  {
   "cell_type": "code",
   "execution_count": null,
   "metadata": {},
   "outputs": [],
   "source": [
    "pooled_outputs = []\n",
    "for i in range(len(self.filter_sizes)):\n",
    "    filter_height = sent_len - self.filter_sizes[i] + 1\n",
    "    conv = self.convs[i](batch_embed)\n",
    "    hidden = F.relu(conv)  # sen_num x out_channel x filter_height x 1\n",
    "\n",
    "    mp = nn.MaxPool2d((filter_height, 1))  # (filter_height, filter_width)\n",
    "    # sen_num x out_channel x 1 x 1 -> sen_num x out_channel\n",
    "    pooled = mp(hidden).reshape(sen_num, self.out_channel)\n",
    "    \n",
    "    pooled_outputs.append(pooled)"
   ]
  },
  {
   "cell_type": "code",
   "execution_count": null,
   "metadata": {},
   "outputs": [],
   "source": [
    "input_size = config.word_dims\n",
    "\n",
    "self.word_lstm = LSTM(\n",
    "    input_size=input_size,\n",
    "    hidden_size=config.word_hidden_size,\n",
    "    num_layers=config.word_num_layers,\n",
    "    batch_first=True,\n",
    "    bidirectional=True,\n",
    "    dropout_in=config.dropout_input,\n",
    "    dropout_out=config.dropout_hidden,\n",
    ")"
   ]
  },
  {
   "cell_type": "code",
   "execution_count": null,
   "metadata": {},
   "outputs": [],
   "source": [
    "hiddens, _ = self.word_lstm(batch_embed, batch_masks)  # sent_len x sen_num x hidden*2\n",
    "hiddens.transpose_(1, 0)  # sen_num x sent_len x hidden*2\n",
    "\n",
    "if self.training:\n",
    "    hiddens = drop_sequence_sharedmask(hiddens, self.dropout_mlp)"
   ]
  },
  {
   "cell_type": "code",
   "execution_count": null,
   "metadata": {},
   "outputs": [],
   "source": []
  }
 ],
 "metadata": {
  "kernelspec": {
   "display_name": "Python 3",
   "language": "python",
   "name": "python3"
  },
  "language_info": {
   "codemirror_mode": {
    "name": "ipython",
    "version": 3
   },
   "file_extension": ".py",
   "mimetype": "text/x-python",
   "name": "python",
   "nbconvert_exporter": "python",
   "pygments_lexer": "ipython3",
   "version": "3.7.3"
  }
 },
 "nbformat": 4,
 "nbformat_minor": 4
}
